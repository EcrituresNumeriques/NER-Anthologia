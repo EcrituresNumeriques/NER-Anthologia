{
 "cells": [
  {
   "cell_type": "markdown",
   "id": "3e36a0b9-0928-429e-90ce-330b2d640d4d",
   "metadata": {},
   "source": [
    "# Greek Epigrams to CSV\n",
    "\n",
    "This notebook extracts Greek texts from the Anthologia Graeca API and formats them into a CSV file in preparation for named entity recognition (NER) work.  \n",
    "The output CSV includes:\n",
    "- Epigram number  \n",
    "- Greek text (with newlines removed)\n",
    "- Text URL in the Anthologia API.\n",
    "\n",
    "This forms the basis of a collaborative annotation workflow for the NER-Anthologia project."
   ]
  },
  {
   "cell_type": "code",
   "execution_count": 1,
   "id": "516819bb-a5b0-4e7c-9946-6def480ae9d1",
   "metadata": {},
   "outputs": [],
   "source": [
    "import requests\n",
    "import csv\n",
    "import re"
   ]
  },
  {
   "cell_type": "code",
   "execution_count": 2,
   "id": "4621c029-bb7e-4ecf-b7e9-a249bde1bff2",
   "metadata": {},
   "outputs": [],
   "source": [
    "API_URL = \"https://anthologiagraeca.org/api\"\n",
    "passages = []"
   ]
  },
  {
   "cell_type": "code",
   "execution_count": 3,
   "id": "173b0af3-00ee-4465-9f1f-3c8beb4f73ce",
   "metadata": {},
   "outputs": [],
   "source": [
    "# Function to fetch json data from an API endpoint\n",
    "def get_data(url):\n",
    "    response = requests.get(url)\n",
    "    if response.status_code == 200:\n",
    "        return response.json()\n",
    "    else:\n",
    "        print(f\"Failed to fetch {url}: {response.status_code}\")\n",
    "        return {}"
   ]
  },
  {
   "cell_type": "code",
   "execution_count": 4,
   "id": "5f707393-f8ef-48f6-87e5-0a34592cdabc",
   "metadata": {},
   "outputs": [
    {
     "name": "stdout",
     "output_type": "stream",
     "text": [
      "Fetched 4134 passages.\n"
     ]
    }
   ],
   "source": [
    "# Fetch all passages from API (may take a while)\n",
    "url = f\"{API_URL}/passages/?limit=200\"\n",
    "\n",
    "while url:\n",
    "    response = get_data(url)\n",
    "    passages.extend(response.get(\"results\", []))\n",
    "    url = response.get(\"next\")\n",
    "\n",
    "print(f\"Fetched {len(passages)} passages.\")"
   ]
  },
  {
   "cell_type": "code",
   "execution_count": 5,
   "id": "60760a6a-1118-4a18-be32-7fcb0c8eec30",
   "metadata": {},
   "outputs": [],
   "source": [
    "# Extract Greek texts and write to CSV\n",
    "output_rows = [(\"epigram_number\", \"greek_text\", \"url\")]  \n",
    "  \n",
    "for passage in passages:\n",
    "    book = passage.get(\"book\", {})\n",
    "    book_number = book.get(\"number\")\n",
    "    fragment_number = passage.get(\"fragment\")\n",
    "    subfragment_number = passage.get(\"sub_fragment\") # When needed\n",
    "    epigram_number = f\"{book_number}.{fragment_number}{subfragment_number}\" # Combine all of the information\n",
    "    \n",
    "    for text_entry in passage.get(\"texts\", []): \n",
    "        if text_entry.get(\"language\") == \"grc\": # Get greek text\n",
    "            greek_text = text_entry.get(\"text\", \"\")\n",
    "            greek_text = re.sub(r\"\\s+\", \" \", greek_text).strip()\n",
    "            urn = text_entry.get(\"url\", \"\")\n",
    "            output_rows.append((epigram_number, greek_text, urn))\n",
    "            break # Make sure we only get one text"
   ]
  },
  {
   "cell_type": "code",
   "execution_count": 6,
   "id": "1d6fb521-3825-496c-ab8c-8d0fea669d64",
   "metadata": {},
   "outputs": [
    {
     "name": "stdout",
     "output_type": "stream",
     "text": [
      "CSV saved as greek_passages.csv\n"
     ]
    }
   ],
   "source": [
    "# Write data to CSV file\n",
    "with open(\"greek_passages.csv\", mode=\"w\", newline='', encoding=\"utf-8\") as file:\n",
    "    writer = csv.writer(file)\n",
    "    writer.writerows(output_rows)\n",
    "\n",
    "print(\"CSV saved as greek_passages.csv\")"
   ]
  }
 ],
 "metadata": {
  "kernelspec": {
   "display_name": "Python 3 (ipykernel)",
   "language": "python",
   "name": "python3"
  },
  "language_info": {
   "codemirror_mode": {
    "name": "ipython",
    "version": 3
   },
   "file_extension": ".py",
   "mimetype": "text/x-python",
   "name": "python",
   "nbconvert_exporter": "python",
   "pygments_lexer": "ipython3",
   "version": "3.10.12"
  }
 },
 "nbformat": 4,
 "nbformat_minor": 5
}
